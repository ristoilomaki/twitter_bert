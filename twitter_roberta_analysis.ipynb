{
 "cells": [
  {
   "cell_type": "markdown",
   "metadata": {},
   "source": [
    "Based on this:\n",
    "https://huggingface.co/cardiffnlp/twitter-roberta-base-sentiment"
   ]
  },
  {
   "cell_type": "code",
   "execution_count": 1,
   "metadata": {},
   "outputs": [],
   "source": [
    "from transformers import AutoModelForSequenceClassification\n",
    "from transformers import TFAutoModelForSequenceClassification\n",
    "from transformers import AutoTokenizer\n",
    "import numpy as np\n",
    "from scipy.special import softmax\n",
    "import csv\n",
    "import urllib.request\n"
   ]
  },
  {
   "cell_type": "code",
   "execution_count": 2,
   "metadata": {},
   "outputs": [],
   "source": [
    "def preprocess(text):\n",
    "    new_text = []\n",
    " \n",
    " \n",
    "    for t in text.split(\" \"):\n",
    "        t = '@user' if t.startswith('@') and len(t) > 1 else t\n",
    "        t = 'http' if t.startswith('http') else t\n",
    "        new_text.append(t)\n",
    "    return \" \".join(new_text)"
   ]
  },
  {
   "cell_type": "code",
   "execution_count": 3,
   "metadata": {},
   "outputs": [],
   "source": [
    "task='sentiment'\n",
    "MODEL = f\"cardiffnlp/twitter-roberta-base-{task}\""
   ]
  },
  {
   "cell_type": "code",
   "execution_count": 4,
   "metadata": {},
   "outputs": [],
   "source": [
    "tokenizer = AutoTokenizer.from_pretrained(MODEL)"
   ]
  },
  {
   "cell_type": "code",
   "execution_count": 5,
   "metadata": {},
   "outputs": [],
   "source": [
    "# download label mapping\n",
    "labels=[]\n",
    "mapping_link = f\"https://raw.githubusercontent.com/cardiffnlp/tweeteval/main/datasets/{task}/mapping.txt\"\n",
    "with urllib.request.urlopen(mapping_link) as f:\n",
    "    html = f.read().decode('utf-8').split(\"\\n\")\n",
    "    csvreader = csv.reader(html, delimiter='\\t')\n",
    "labels = [row[1] for row in csvreader if len(row) > 1]"
   ]
  },
  {
   "cell_type": "code",
   "execution_count": 6,
   "metadata": {},
   "outputs": [],
   "source": [
    "# PT\n",
    "# model = AutoModelForSequenceClassification.from_pretrained(MODEL)\n",
    "model = AutoModelForSequenceClassification.from_pretrained(\"./sentimentmodel/.\")"
   ]
  },
  {
   "cell_type": "code",
   "execution_count": 7,
   "metadata": {},
   "outputs": [],
   "source": [
    "# model.save_pretrained(\"sentimentmodel\")"
   ]
  },
  {
   "cell_type": "code",
   "execution_count": 8,
   "metadata": {},
   "outputs": [],
   "source": [
    "text = \"i hate covid\"\n",
    "text = preprocess(text)\n",
    "encoded_input = tokenizer(text, return_tensors='pt')\n",
    "output = model(**encoded_input)\n",
    "scores = output[0][0].detach().numpy()\n",
    "scores = softmax(scores)"
   ]
  },
  {
   "cell_type": "code",
   "execution_count": 9,
   "metadata": {},
   "outputs": [
    {
     "name": "stdout",
     "output_type": "stream",
     "text": [
      "1) negative 0.9622\n",
      "2) neutral 0.0309\n",
      "3) positive 0.0068\n"
     ]
    }
   ],
   "source": [
    "ranking = np.argsort(scores)\n",
    "ranking = ranking[::-1]\n",
    "for i in range(scores.shape[0]):\n",
    "    l = labels[ranking[i]]\n",
    "    s = scores[ranking[i]]\n",
    "    print(f\"{i+1}) {l} {np.round(float(s), 4)}\")"
   ]
  },
  {
   "cell_type": "code",
   "execution_count": 10,
   "metadata": {},
   "outputs": [],
   "source": [
    "def give_labels(text):\n",
    "    text = preprocess(text)\n",
    "    encoded_input = tokenizer(text, return_tensors='pt')\n",
    "    output = model(**encoded_input)\n",
    "    scores = output[0][0].detach().numpy()\n",
    "    scores = softmax(scores)\n",
    "    ranking = np.argsort(scores)\n",
    "    ranking = ranking[::-1]\n",
    "    for i in range(scores.shape[0]):\n",
    "        l = labels[ranking[i]]\n",
    "        s = scores[ranking[i]]\n",
    "        print(f\"{i+1}) {l} {np.round(float(s), 4)}\")"
   ]
  },
  {
   "cell_type": "code",
   "execution_count": 11,
   "metadata": {},
   "outputs": [],
   "source": [
    "def give_most_probable_label(text):\n",
    "    text = preprocess(text)\n",
    "    encoded_input = tokenizer(text, return_tensors='pt')\n",
    "    output = model(**encoded_input)\n",
    "    scores = output[0][0].detach().numpy()\n",
    "    scores = softmax(scores)\n",
    "    ranking = np.argsort(scores)\n",
    "    ranking = ranking[::-1]\n",
    "    return labels[ranking[0]]"
   ]
  },
  {
   "cell_type": "code",
   "execution_count": 12,
   "metadata": {},
   "outputs": [],
   "source": [
    "def label_probabilities(text):\n",
    "    text = preprocess(text)\n",
    "    encoded_input = tokenizer(text, return_tensors='pt')\n",
    "    output = model(**encoded_input)\n",
    "    scores = output[0][0].detach().numpy()\n",
    "    scores = softmax(scores)\n",
    "    probs = {}\n",
    "    for i in range(scores.shape[0]):\n",
    "        l = labels[ranking[i]]\n",
    "        s = scores[ranking[i]]\n",
    "        probs[l] = s\n",
    "    return probs"
   ]
  },
  {
   "cell_type": "code",
   "execution_count": 13,
   "metadata": {},
   "outputs": [
    {
     "data": {
      "text/plain": [
       "{'positive': 0.84657764, 'neutral': 0.14581239, 'negative': 0.0076098805}"
      ]
     },
     "execution_count": 13,
     "metadata": {},
     "output_type": "execute_result"
    }
   ],
   "source": [
    "label_probabilities(\"Good night 😊\")"
   ]
  },
  {
   "cell_type": "code",
   "execution_count": 14,
   "metadata": {},
   "outputs": [
    {
     "name": "stdout",
     "output_type": "stream",
     "text": [
      "1) positive 0.8466\n",
      "2) neutral 0.1458\n",
      "3) negative 0.0076\n"
     ]
    }
   ],
   "source": [
    "give_labels(\"Good night 😊\")"
   ]
  },
  {
   "cell_type": "code",
   "execution_count": 15,
   "metadata": {},
   "outputs": [
    {
     "data": {
      "text/plain": [
       "'negative'"
      ]
     },
     "execution_count": 15,
     "metadata": {},
     "output_type": "execute_result"
    }
   ],
   "source": [
    "give_most_probable_label(\"fuck you\")"
   ]
  },
  {
   "cell_type": "code",
   "execution_count": 16,
   "metadata": {},
   "outputs": [],
   "source": [
    "import pandas as pd"
   ]
  },
  {
   "cell_type": "markdown",
   "metadata": {},
   "source": [
    "# insert the filename below!!"
   ]
  },
  {
   "cell_type": "code",
   "execution_count": 17,
   "metadata": {},
   "outputs": [],
   "source": [
    "filename = 'tweets_labeled_all.xlsx'"
   ]
  },
  {
   "cell_type": "code",
   "execution_count": 18,
   "metadata": {},
   "outputs": [],
   "source": [
    "n = 2614\n",
    "d = pd.read_excel(filename)\n",
    "tweets = d['full_text'][:n]\n",
    "# labels = d['Label (critical: 1/neutral: 0)'][:600]\n",
    "# data = pd.DataFrame({'tweets': tweets, 'labels': labels})\n",
    "critic_labels = d['Label (critical: 1/neutral: 0)'][:n]\n",
    "data = pd.DataFrame({'tweets': tweets, 'labels': critic_labels})\n"
   ]
  },
  {
   "cell_type": "code",
   "execution_count": 19,
   "metadata": {},
   "outputs": [
    {
     "name": "stdout",
     "output_type": "stream",
     "text": [
      "TWEET:\n",
      "RT @MeenaDasNarayan: You are a scamster, who has cheated people using #Covid as a ruse... why would anyone trust even a curly knot in ur ha…\n",
      "scores by BERT model:\n",
      "1) negative 0.9506\n",
      "2) neutral 0.0462\n",
      "3) positive 0.0032\n",
      "MANUAL LABEL: critical\n",
      "\n",
      "\n",
      "TWEET:\n",
      "RT @EricWishart: Because of #COVID, the mask shop is closed.\n",
      "#HongKong #China https://t.co/FYcJX1pzNK\n",
      "scores by BERT model:\n",
      "1) neutral 0.4889\n",
      "2) negative 0.4868\n",
      "3) positive 0.0243\n",
      "MANUAL LABEL: critical\n",
      "\n",
      "\n",
      "TWEET:\n",
      "RT @KentPage: Amidst deadly conflict and #COVID-19, heroic health workers at this underground maternity unit in Kharkiv are helping bring n…\n",
      "scores by BERT model:\n",
      "1) neutral 0.6801\n",
      "2) positive 0.2748\n",
      "3) negative 0.0451\n",
      "MANUAL LABEL: neutral\n",
      "\n",
      "\n",
      "TWEET:\n",
      "RT @phyz_Buni: The suppression of #Ivermectin will be one of the biggest #COVID pandemic scandals. Dr John Campbell analysis of peer review…\n",
      "scores by BERT model:\n",
      "1) negative 0.7245\n",
      "2) neutral 0.2575\n",
      "3) positive 0.018\n",
      "MANUAL LABEL: neutral\n",
      "\n",
      "\n",
      "TWEET:\n",
      "Total Covid Death Distribution by County  For VT   2022-03-04:  Latest Covid Insights by Our Analytics Team using USAFacts #datavisualization #datascience #analytics #healthtech #data #covid19 #publichealth #covid #globalhealth #RStats https://t.co/d9wHXaJuaL\n",
      "scores by BERT model:\n",
      "1) neutral 0.8426\n",
      "2) negative 0.1026\n",
      "3) positive 0.0548\n",
      "MANUAL LABEL: neutral\n",
      "\n",
      "\n",
      "TWEET:\n",
      "RT @njoyflyfishing: Total Covid Death Distribution by County  For UT   2022-03-04:  Latest Covid Insights by Our Analytics Team using USAFa…\n",
      "scores by BERT model:\n",
      "1) neutral 0.8608\n",
      "2) negative 0.106\n",
      "3) positive 0.0331\n",
      "MANUAL LABEL: neutral\n",
      "\n",
      "\n",
      "TWEET:\n",
      "We're ok here though, #Covid hasn't been mentioned in well over a week\n",
      "\n",
      "#r4today https://t.co/1AH8ilqv5s\n",
      "scores by BERT model:\n",
      "1) positive 0.6928\n",
      "2) neutral 0.2882\n",
      "3) negative 0.019\n",
      "MANUAL LABEL: neutral\n",
      "\n",
      "\n",
      "TWEET:\n",
      "RT @ninnyd101: I’ve said it enough times now \n",
      "Do you not think it’s strange not one PM/MP /president/ royal/ or congress person/ across the…\n",
      "scores by BERT model:\n",
      "1) neutral 0.5331\n",
      "2) negative 0.4037\n",
      "3) positive 0.0632\n",
      "MANUAL LABEL: critical\n",
      "\n",
      "\n",
      "TWEET:\n",
      "RT @njoyflyfishing: Total Covid Death Distribution by County  For UT   2022-03-04:  Latest Covid Insights by Our Analytics Team using USAFa…\n",
      "scores by BERT model:\n",
      "1) neutral 0.8608\n",
      "2) negative 0.106\n",
      "3) positive 0.0331\n",
      "MANUAL LABEL: neutral\n",
      "\n",
      "\n",
      "TWEET:\n",
      "RT @JohnCordBooks2: Under Trump &amp; Under Joe Biden SAME \"I #love #God\" fakery denying #Law #1 playing #GreatestGuru_InTheWorld when both = #…\n",
      "scores by BERT model:\n",
      "1) neutral 0.476\n",
      "2) negative 0.3939\n",
      "3) positive 0.1301\n",
      "MANUAL LABEL: critical\n",
      "\n",
      "\n"
     ]
    }
   ],
   "source": [
    "n = 10\n",
    "for t, l in zip(tweets[:n], critic_labels[:n]):\n",
    "    print(\"TWEET:\")\n",
    "    print(t)\n",
    "    print(\"scores by BERT model:\")\n",
    "    give_labels(t)\n",
    "    label = \"critical\" if l == 1 else \"neutral\"\n",
    "    print(\"MANUAL LABEL: \", end=\"\")\n",
    "    print(label)\n",
    "    print(\"\\n\")"
   ]
  },
  {
   "cell_type": "markdown",
   "metadata": {},
   "source": [
    "## kaikkien twiittien jakauma\n",
    "\n",
    "9.56% of tweets are positive\n",
    "65.26% of tweets are neutral\n",
    "25.17% of tweets are negative"
   ]
  },
  {
   "cell_type": "code",
   "execution_count": 20,
   "metadata": {},
   "outputs": [],
   "source": [
    "def distribution(tweets):\n",
    "    \"\"\"\n",
    "    percentage of positive/neutral/negative tweets\n",
    "    \"\"\"\n",
    "    n = len(tweets)\n",
    "    n_pos = 0\n",
    "    n_neu = 0\n",
    "    n_neg = 0\n",
    "    for t in tweets:\n",
    "        l = give_most_probable_label(t)\n",
    "        if l == \"positive\":\n",
    "            n_pos += 1\n",
    "        elif l == \"neutral\":\n",
    "            n_neu += 1\n",
    "        elif l == \"negative\":\n",
    "            n_neg += 1\n",
    "    return n_pos/n, n_neu/n, n_neg/n"
   ]
  },
  {
   "cell_type": "code",
   "execution_count": 21,
   "metadata": {},
   "outputs": [
    {
     "name": "stdout",
     "output_type": "stream",
     "text": [
      "9.56% of tweets are positive\n",
      "65.26% of tweets are neutral\n",
      "25.17% of tweets are negative\n"
     ]
    }
   ],
   "source": [
    "pos, neu, neg = distribution(tweets)\n",
    "print(f\"{pos*100:.2f}% of tweets are positive\")\n",
    "print(f\"{neu*100:.2f}% of tweets are neutral\")\n",
    "print(f\"{neg*100:.2f}% of tweets are negative\")"
   ]
  },
  {
   "cell_type": "markdown",
   "metadata": {},
   "source": [
    "## critical tweets\n",
    "12.39% of critical tweets are positive\n",
    "41.45% of critical tweets are neutral\n",
    "46.15% of critical tweets are negative"
   ]
  },
  {
   "cell_type": "code",
   "execution_count": 22,
   "metadata": {},
   "outputs": [],
   "source": [
    "# critical tweets\n",
    "tweets_critical = data[data['labels'] == 1]['tweets']\n",
    "pos, neu, neg = distribution(tweets_critical)"
   ]
  },
  {
   "cell_type": "code",
   "execution_count": 23,
   "metadata": {},
   "outputs": [
    {
     "name": "stdout",
     "output_type": "stream",
     "text": [
      "12.39% of critical tweets are positive\n",
      "41.45% of critical tweets are neutral\n",
      "46.15% of critical tweets are negative\n"
     ]
    }
   ],
   "source": [
    "print(f\"{pos*100:.2f}% of critical tweets are positive\")\n",
    "print(f\"{neu*100:.2f}% of critical tweets are neutral\")\n",
    "print(f\"{neg*100:.2f}% of critical tweets are negative\")"
   ]
  },
  {
   "cell_type": "markdown",
   "metadata": {},
   "source": [
    "## neutral tweets\n",
    "8.53% of neutral tweets are positive\n",
    "74.01% of neutral tweets are neutral\n",
    "17.47% of neutral tweets are negative"
   ]
  },
  {
   "cell_type": "code",
   "execution_count": 24,
   "metadata": {},
   "outputs": [
    {
     "name": "stdout",
     "output_type": "stream",
     "text": [
      "8.53% of neutral tweets are positive\n",
      "74.01% of neutral tweets are neutral\n",
      "17.47% of neutral tweets are negative\n"
     ]
    }
   ],
   "source": [
    "tweets_neutral = data[data['labels'] == 0]['tweets']\n",
    "pos, neu, neg = distribution(tweets_neutral)\n",
    "print(f\"{pos*100:.2f}% of neutral tweets are positive\")\n",
    "print(f\"{neu*100:.2f}% of neutral tweets are neutral\")\n",
    "print(f\"{neg*100:.2f}% of neutral tweets are negative\")"
   ]
  },
  {
   "cell_type": "code",
   "execution_count": 25,
   "metadata": {},
   "outputs": [],
   "source": [
    "def find_n_most_probable(tweets, n, label):\n",
    "    \"\"\"\n",
    "    finds n most probable tweets with the given label.\n",
    "    Example: find_n_most_probable(tweets_critical, 5, 'positive')\n",
    "    returns 5 most positive critical tweets\n",
    "    \"\"\"\n",
    "    tweetProbs = [] # list of tuples (tweet, probability)\n",
    "    for t in tweets:\n",
    "        probs = label_probabilities(t)\n",
    "        tweetProbs.append((t, probs[label]))\n",
    "    # order list by prob, most probable first\n",
    "    tweetProbs = sorted(tweetProbs, key=lambda x: x[1], reverse=True)\n",
    "    # return only the n first tweets\n",
    "    # print(tweetProbs[:n])\n",
    "    return [t[0] for t in tweetProbs[:n]]"
   ]
  },
  {
   "cell_type": "code",
   "execution_count": 26,
   "metadata": {},
   "outputs": [],
   "source": [
    "critical_positive = find_n_most_probable(tweets_critical, 5, 'positive')"
   ]
  },
  {
   "cell_type": "code",
   "execution_count": 27,
   "metadata": {},
   "outputs": [],
   "source": [
    "def print_nicely(tweets, labels = None):\n",
    "    for i, t in enumerate(tweets):\n",
    "        print(t)\n",
    "        if labels is not None:\n",
    "            print(f\"LABEL: {labels.iloc[i]}\")\n",
    "        print(\"---------------------------------\")"
   ]
  },
  {
   "cell_type": "code",
   "execution_count": 28,
   "metadata": {},
   "outputs": [
    {
     "name": "stdout",
     "output_type": "stream",
     "text": [
      "RT @AilsaForshaw: #FoodieFriday #YangGangFitness #YangGang \n",
      "\n",
      "Yum! Time to make more #CoffeeCake! Is so delicious, #Cinnamon is very good fo…\n",
      "---------------------------------\n",
      "Rainbow Print Protective Fask Masks\n",
      "\n",
      "🌸https://t.co/AEYsyPOlVH\n",
      "\n",
      "I mean have you seen anything more fun? These are way happier looking than the standard blue or white masks\n",
      "\n",
      "#rainbow #covid https://t.co/TsOCS3mqur https://t.co/B7JWcOgUSf\n",
      "---------------------------------\n",
      "Happiness can be found even in the darkest of times if one only remembers to turn on the light.\n",
      "\n",
      " #inspiration #therapy #happiness #positivity #positivevibes #mindset #quotes #meditation #mentalillness #psychology #wellbeing #instagood #covid #bhfyp\n",
      "---------------------------------\n",
      "Happiness can be found even in the darkest of times, if one only remembers to turn on the light. \n",
      "\n",
      "#inspiration #therapy #happiness #positivity #positivevibes #mindset #quotes #meditation #mentalillness #psychology #wellbeing #instagood #covid #bhfyp\n",
      "---------------------------------\n",
      "RT @Anita_Jacoby: Not many laughs when it comes to #COVID but this one is heavenly. https://t.co/qzFnyniaIR\n",
      "---------------------------------\n"
     ]
    }
   ],
   "source": [
    "print_nicely(critical_positive)"
   ]
  },
  {
   "cell_type": "markdown",
   "metadata": {},
   "source": [
    "- can't detect sarcasm well\n",
    "- claims may seem positive, even though they may be somewhat false and contain words with positive connotations (teachers, education, etc.)"
   ]
  },
  {
   "cell_type": "code",
   "execution_count": 29,
   "metadata": {},
   "outputs": [],
   "source": [
    "critical_negative = find_n_most_probable(tweets_critical, 5, 'negative')"
   ]
  },
  {
   "cell_type": "code",
   "execution_count": 30,
   "metadata": {},
   "outputs": [
    {
     "name": "stdout",
     "output_type": "stream",
     "text": [
      "At the end of the day, I have no fucking 𝒄𝒉𝒐𝒊𝒄𝒆. The CUNT follows 𝒎𝒆 around absolutely every fucking where like a fucking dog turd I picked up on my shoe.\n",
      "#McClownTheDogTurd #CovidDeathCult #COVID https://t.co/nvxo20NpNl\n",
      "---------------------------------\n",
      "You are a scamster, who has cheated people using #Covid as a ruse... why would anyone trust even a curly knot in ur hair??? @RanaAyyub https://t.co/mvgTLnMt4x\n",
      "---------------------------------\n",
      "The most weird and annoying side effect of Covid is that all fruit now has a strange floral taste. 🙄 Sound familiar to anyone? #covid #sideeffects #taste\n",
      "---------------------------------\n",
      "@Rusty02163858 @brooklyndumbo You humans have been getting sick from coronavirus your entire lives and your reactions to the common cold, bronchitis, pneumonia are that of Stupidity.\n",
      "\n",
      "#ThisIsWhyWeDontVisitYou\n",
      "#Scamdemic\n",
      "#COVID\n",
      "#LetsGoDarwin\n",
      "#1YearOfVaccination\n",
      "#VaccineInjuries\n",
      "#VaccineDrunk\n",
      "#COVIDdrugAdicts\n",
      "---------------------------------\n",
      "A few weeks ago, I started wishing for some different news after so many months of hearing #Covid talk. Now I regret that while it sickens me to see what the tyrant is doing to the #Ukrainians. #UkraineUnderAttaсk #RussianUkrainianWar #war\n",
      "---------------------------------\n"
     ]
    }
   ],
   "source": [
    "print_nicely(critical_negative)"
   ]
  },
  {
   "cell_type": "markdown",
   "metadata": {},
   "source": [
    "- not surprising. blaiming, critical, very negative words and claims"
   ]
  },
  {
   "cell_type": "code",
   "execution_count": 31,
   "metadata": {},
   "outputs": [],
   "source": [
    "critical_neutral = find_n_most_probable(tweets_critical, 5, 'neutral')"
   ]
  },
  {
   "cell_type": "code",
   "execution_count": 32,
   "metadata": {},
   "outputs": [
    {
     "name": "stdout",
     "output_type": "stream",
     "text": [
      "Any #Covid Discordant Couples here in Hong Kong??\n",
      "---------------------------------\n",
      "RT @Aaron_Derfel: Hi everyone: The Evening Owl will be dropping a #COVID Twitter thread momentarily, returning to the subject of the fallou…\n",
      "---------------------------------\n",
      "RT @Aaron_Derfel: Hi everyone: The Evening Owl will be dropping a #COVID Twitter thread momentarily, returning to the subject of the fallou…\n",
      "---------------------------------\n",
      "RT @Aaron_Derfel: Hi everyone: The Evening Owl will be dropping a #COVID Twitter thread momentarily, returning to the subject of the fallou…\n",
      "---------------------------------\n",
      "RT @Aaron_Derfel: Hi everyone: The Evening Owl will be dropping a #COVID Twitter thread momentarily, returning to the subject of the fallou…\n",
      "---------------------------------\n"
     ]
    }
   ],
   "source": [
    "print_nicely(critical_neutral)"
   ]
  },
  {
   "cell_type": "markdown",
   "metadata": {},
   "source": [
    "- questioning claims/questions, no provocative words\n",
    "- sarcasm may be involved\n",
    "- may be very critical, but with no negative words"
   ]
  },
  {
   "cell_type": "code",
   "execution_count": 33,
   "metadata": {},
   "outputs": [],
   "source": [
    "neutral_negative = find_n_most_probable(tweets_neutral, 5, 'negative')"
   ]
  },
  {
   "cell_type": "markdown",
   "metadata": {},
   "source": [
    "kaikista twiiteistä, mitkä on kaikkein pos/neg, ovatko kriittisiä vai neutraaleja?"
   ]
  },
  {
   "cell_type": "code",
   "execution_count": 34,
   "metadata": {},
   "outputs": [
    {
     "name": "stdout",
     "output_type": "stream",
     "text": [
      "The highly dangerous #COVID virus has infected my youngest child. Here he is suffering in isolation. https://t.co/wzOweynfBg\n",
      "---------------------------------\n",
      "that they are actually destroying their children's lives;  the impact on humans brought by those over a thousand side effects of the COVID vaccine recently released by the FDA will be multiplied, and the death toll will be unpredictable.\n",
      "\n",
      "#COVID\n",
      "#FDA https://t.co/wwljfwISlM\n",
      "---------------------------------\n",
      "🤡🍿🎪 @andrewcuomo serially sexually harassed multiple women, resigned to avoid being impeached, still blames victims, refuses to take responsibility &amp; enabled nursing home owners to kill  1000s during #COVID  w/no consequences. Horrific #pandemicpatriarch. @monaeltahawy https://t.co/CsnRrY5cUZ\n",
      "---------------------------------\n",
      "Fuckin GI virus, unless it's COVID, home tests come negative. Fever 38+, diarrea, vomits, body aches, shivers. Anybody relate? @yyc @Crackmacs #COVID #NotCovid #whoknows\n",
      "---------------------------------\n",
      "Unbelievable @NSWHealth forced me to use my own sick leave when isolating for #COVID. If I had known that at the time I would have just reported to work while infectious. Screw them and you @Dom_Perrottet. #nswpol #covid19 #covidiots #domicron #covidnsw\n",
      "---------------------------------\n"
     ]
    }
   ],
   "source": [
    "print_nicely(neutral_negative)"
   ]
  },
  {
   "cell_type": "markdown",
   "metadata": {},
   "source": [
    "- ugly words\n",
    "- critical/thought-provoking text but not about covid"
   ]
  },
  {
   "cell_type": "code",
   "execution_count": 35,
   "metadata": {},
   "outputs": [],
   "source": [
    "# construct a df with all tweets and probabilities\n",
    "pos_probs = []\n",
    "neu_probs = []\n",
    "neg_probs = []\n",
    "positivity_labels = []\n",
    "for t in tweets:\n",
    "    probs = label_probabilities(t)\n",
    "    pos_probs.append(probs['positive'])\n",
    "    neu_probs.append(probs['neutral'])\n",
    "    neg_probs.append(probs['negative'])\n",
    "    positivity_labels.append(max(probs, key=probs.get))\n",
    "df = pd.DataFrame({'tweets': tweets, 'criticality_label': critic_labels, 'positivity_label': positivity_labels, 'pos_prob': pos_probs, 'neu_prob': neu_probs, 'neg_prob': neg_probs})"
   ]
  },
  {
   "cell_type": "code",
   "execution_count": 36,
   "metadata": {},
   "outputs": [],
   "source": [
    "df['criticality_label'] = df['criticality_label'].map({1: 'critical', 0: 'neutral'})"
   ]
  },
  {
   "cell_type": "code",
   "execution_count": 37,
   "metadata": {},
   "outputs": [
    {
     "name": "stdout",
     "output_type": "stream",
     "text": [
      "5 most positive tweets:\n",
      "Thank you, @60Minutes, for an uplifting stream of info tonight. After watching @10queues and @CDCDirector, I am, this time, more understanding of the nature of #Covid; and that we really are in a better place currently.\n",
      "LABEL: neutral\n",
      "---------------------------------\n",
      "RT @NinjaJuice10: @AltcoinWorldcom We all can party again thanks to the @BackstageBks and this amazing concept that brings life to event in…\n",
      "LABEL: neutral\n",
      "---------------------------------\n",
      "RT @esthersingsjazz: Really enjoyed contributing to this book! 😎 #jazzsinger #jazzlife #jazzbooks #jazzwriting #COVID #lockdownlife https:/…\n",
      "LABEL: neutral\n",
      "---------------------------------\n",
      "@pascal_bornet thanx for sharing this! On a lighter note - Working from home these past two years we have to be thankful the universe has at the very least continued to move! 🙂 Time to contribute to our part!! #workingfromhome #covid #amazing #universe https://t.co/OBSf6KG9TF\n",
      "LABEL: neutral\n",
      "---------------------------------\n",
      "RT @AilsaForshaw: #FoodieFriday #YangGangFitness #YangGang \n",
      "\n",
      "Yum! Time to make more #CoffeeCake! Is so delicious, #Cinnamon is very good fo…\n",
      "LABEL: critical\n",
      "---------------------------------\n"
     ]
    }
   ],
   "source": [
    "# most positive tweets\n",
    "df.sort_values(by=['pos_prob'], ascending=False, inplace=True)\n",
    "# print(df.head(10))\n",
    "n = 5\n",
    "print(f\"{n} most positive tweets:\")\n",
    "print_nicely(df['tweets'][:n], df['criticality_label'][:n])"
   ]
  },
  {
   "cell_type": "markdown",
   "metadata": {},
   "source": [
    "- not surprisingly, no criticality\n",
    "- praising band, returning to a public place or wfh possibilities, more about general situation of pandemic than the disease\n",
    "- "
   ]
  },
  {
   "cell_type": "code",
   "execution_count": 38,
   "metadata": {},
   "outputs": [
    {
     "name": "stdout",
     "output_type": "stream",
     "text": [
      "5 most neutral tweets:\n",
      "Any #Covid Discordant Couples here in Hong Kong??\n",
      "LABEL: critical\n",
      "---------------------------------\n",
      "RT @NewsMedical: Longitudinal analysis of CD4+ T cells and antibody responses to common cold coronaviruses https://t.co/wiydXa9E2t @biorxiv…\n",
      "LABEL: neutral\n",
      "---------------------------------\n",
      "RT @NewsMedical: Longitudinal analysis of CD4+ T cells and antibody responses to common cold coronaviruses https://t.co/wiydXa9E2t @biorxiv…\n",
      "LABEL: neutral\n",
      "---------------------------------\n",
      "Central Delhi has at least 9058 new slots available between 07-03-22 &amp; 14-03-22.\n",
      "\n",
      "Covishield:\n",
      "Dose1- 18+/45+:1238/0\n",
      "Dose2- 18+/45+:1274/0\n",
      "\n",
      "Covaxin:\n",
      "Dose1- 18+/45+:0/0\n",
      "Dose2- 18+/45+:0/0\n",
      "\n",
      "Book one now at https://t.co/oN1Ae9Fz77 #vaccine #cowin #covid #Delhi\n",
      "LABEL: neutral\n",
      "---------------------------------\n",
      "RT @researchsaves: Early in 2020, Riti Sharan worked 12 hours a day, seven days a week in biocontainment safety level 3 labs at Texas Biome…\n",
      "LABEL: neutral\n",
      "---------------------------------\n"
     ]
    }
   ],
   "source": [
    "# most neutral tweets\n",
    "df.sort_values(by=['neu_prob'], ascending=False, inplace=True)\n",
    "print(f\"{n} most neutral tweets:\")\n",
    "print_nicely(df['tweets'][:n], df['criticality_label'][:n])"
   ]
  },
  {
   "cell_type": "markdown",
   "metadata": {},
   "source": [
    "- news reports"
   ]
  },
  {
   "cell_type": "code",
   "execution_count": 39,
   "metadata": {},
   "outputs": [
    {
     "name": "stdout",
     "output_type": "stream",
     "text": [
      "5 most negative tweets:\n",
      "At the end of the day, I have no fucking 𝒄𝒉𝒐𝒊𝒄𝒆. The CUNT follows 𝒎𝒆 around absolutely every fucking where like a fucking dog turd I picked up on my shoe.\n",
      "#McClownTheDogTurd #CovidDeathCult #COVID https://t.co/nvxo20NpNl\n",
      "LABEL: critical\n",
      "---------------------------------\n",
      "The highly dangerous #COVID virus has infected my youngest child. Here he is suffering in isolation. https://t.co/wzOweynfBg\n",
      "LABEL: neutral\n",
      "---------------------------------\n",
      "You are a scamster, who has cheated people using #Covid as a ruse... why would anyone trust even a curly knot in ur hair??? @RanaAyyub https://t.co/mvgTLnMt4x\n",
      "LABEL: critical\n",
      "---------------------------------\n",
      "The most weird and annoying side effect of Covid is that all fruit now has a strange floral taste. 🙄 Sound familiar to anyone? #covid #sideeffects #taste\n",
      "LABEL: critical\n",
      "---------------------------------\n",
      "that they are actually destroying their children's lives;  the impact on humans brought by those over a thousand side effects of the COVID vaccine recently released by the FDA will be multiplied, and the death toll will be unpredictable.\n",
      "\n",
      "#COVID\n",
      "#FDA https://t.co/wwljfwISlM\n",
      "LABEL: neutral\n",
      "---------------------------------\n"
     ]
    }
   ],
   "source": [
    "# most negative tweets\n",
    "df.sort_values(by=['neg_prob'], ascending=False, inplace=True)\n",
    "print(f\"{n} most negative tweets:\")\n",
    "print_nicely(df['tweets'][:n], df['criticality_label'][:n])"
   ]
  },
  {
   "cell_type": "markdown",
   "metadata": {},
   "source": [
    "- blaiming, trashtalk\n",
    "- tweet about war containing negative connotated (but not inpolite) words"
   ]
  },
  {
   "cell_type": "code",
   "execution_count": 40,
   "metadata": {},
   "outputs": [],
   "source": [
    "# plot some nice distributions\n",
    "import matplotlib.pyplot as plt\n"
   ]
  },
  {
   "cell_type": "code",
   "execution_count": 41,
   "metadata": {},
   "outputs": [],
   "source": [
    "# plot stacked histograms about probability distribution and criticality\n",
    "def plot_distribution(df, label):\n",
    "    criticals = df[df['criticality_label'] == 'critical'][label]\n",
    "    neutrals = df[df['criticality_label'] == 'neutral'][label]\n",
    "    x = [criticals, neutrals]\n",
    "    plt.hist(x, stacked=True, bins=20)\n",
    "    plt.legend(['critical tweets', 'neutral tweets'])\n",
    "    plt.xlabel(\"Probability\")\n",
    "    plt.ylabel(\"Number of tweets\")\n",
    "    if label == 'pos_prob':\n",
    "        plt.title(\"Positive probability distribution\")\n",
    "    elif label == 'neu_prob':\n",
    "        plt.title(\"Neutral probability distribution\")\n",
    "    elif label == 'neg_prob':\n",
    "        plt.title(\"Negative probability distribution\")"
   ]
  },
  {
   "cell_type": "code",
   "execution_count": 42,
   "metadata": {},
   "outputs": [
    {
     "data": {
      "image/png": "[encoded data removed]",
      "text/plain": [
       "<Figure size 432x288 with 1 Axes>"
      ]
     },
     "metadata": {
      "needs_background": "light"
     },
     "output_type": "display_data"
    },
    {
     "data": {
      "image/png": "[encoded data removed]",
      "text/plain": [
       "<Figure size 432x288 with 1 Axes>"
      ]
     },
     "metadata": {
      "needs_background": "light"
     },
     "output_type": "display_data"
    },
    {
     "data": {
      "image/png": "[encoded data removed]",
      "text/plain": [
       "<Figure size 432x288 with 1 Axes>"
      ]
     },
     "metadata": {
      "needs_background": "light"
     },
     "output_type": "display_data"
    }
   ],
   "source": [
    "plot_distribution(df, 'pos_prob')\n",
    "plt.show()\n",
    "plot_distribution(df, 'neu_prob')\n",
    "plt.show()\n",
    "plot_distribution(df, 'neg_prob')\n",
    "plt.show()"
   ]
  },
  {
   "cell_type": "code",
   "execution_count": 43,
   "metadata": {},
   "outputs": [],
   "source": [
    "# plot bar chart about pos/neg/neu and criticality\n",
    "def stackedBar(df):\n",
    "    labels = ['positive', 'neutral', 'negative']\n",
    "    # underhood_labels = ['pos_prob', 'neu_prob', 'neg_prob']\n",
    "    criticals = df[df['criticality_label'] == 'critical']\n",
    "    neutrals = df[df['criticality_label'] == 'neutral']\n",
    "    x = [criticals[criticals['positivity_label'] == l].shape[0] for l in labels]\n",
    "    y = [neutrals[neutrals['positivity_label'] == l].shape[0] for l in labels]\n",
    "    plt.bar(labels, x, color='r', label='critical tweets')\n",
    "    plt.bar(labels, y, color='b', bottom=x, label='neutral tweets')\n",
    "    plt.xlabel(\"Positivity label\")\n",
    "    plt.ylabel(\"Number of tweets\")\n",
    "    plt.title(\"Positivity distribution\")\n",
    "    plt.legend()\n",
    "    plt.show()\n",
    "    "
   ]
  },
  {
   "cell_type": "code",
   "execution_count": 44,
   "metadata": {},
   "outputs": [
    {
     "data": {
      "image/png": "[encoded data removed]",
      "text/plain": [
       "<Figure size 432x288 with 1 Axes>"
      ]
     },
     "metadata": {
      "needs_background": "light"
     },
     "output_type": "display_data"
    }
   ],
   "source": [
    "stackedBar(df)"
   ]
  }
 ],
 "metadata": {
  "interpreter": {
   "hash": "1699b388bd678768f544dd6534e58979417dc4074b6b5ce767e74c5ad0a1cf40"
  },
  "kernelspec": {
   "display_name": "Python 3.8.5 ('venv': venv)",
   "language": "python",
   "name": "python3"
  },
  "language_info": {
   "codemirror_mode": {
    "name": "ipython",
    "version": 3
   },
   "file_extension": ".py",
   "mimetype": "text/x-python",
   "name": "python",
   "nbconvert_exporter": "python",
   "pygments_lexer": "ipython3",
   "version": "3.8.5"
  },
  "orig_nbformat": 4
 },
 "nbformat": 4,
 "nbformat_minor": 2
}
