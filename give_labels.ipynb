{
 "cells": [
  {
   "cell_type": "code",
   "execution_count": 1,
   "metadata": {},
   "outputs": [
    {
     "name": "stderr",
     "output_type": "stream",
     "text": [
      "All model checkpoint layers were used when initializing TFDistilBertForSequenceClassification.\n",
      "\n",
      "All the layers of TFDistilBertForSequenceClassification were initialized from the model checkpoint at ./models/..\n",
      "If your task is similar to the task the model of the checkpoint was trained on, you can already use TFDistilBertForSequenceClassification for predictions without further training.\n"
     ]
    }
   ],
   "source": [
    "from transformers import TFDistilBertForSequenceClassification\n",
    "model = TFDistilBertForSequenceClassification.from_pretrained('./models/.')\n",
    "from transformers import DistilBertTokenizerFast\n",
    "tokenizer = DistilBertTokenizerFast.from_pretrained('./models/tf_tokenizer/.')\n",
    "from transformers import TextClassificationPipeline\n",
    "pipe = TextClassificationPipeline(model = model, tokenizer = tokenizer, return_all_scores=True)"
   ]
  },
  {
   "cell_type": "code",
   "execution_count": 2,
   "metadata": {},
   "outputs": [],
   "source": [
    "import pandas as pd"
   ]
  },
  {
   "cell_type": "code",
   "execution_count": 12,
   "metadata": {},
   "outputs": [],
   "source": [
    "df = pd.read_excel('tweets_labeled.xlsx')\n",
    "l = 'Label (critical: 1/neutral: 0)'\n",
    "f = 'full_text'"
   ]
  },
  {
   "cell_type": "code",
   "execution_count": 11,
   "metadata": {},
   "outputs": [
    {
     "name": "stdout",
     "output_type": "stream",
     "text": [
      "   Unnamed: 0            id created_at  \\\n",
      "0         0.0  1.500745e+18 2022-03-07   \n",
      "1         1.0  1.500745e+18 2022-03-07   \n",
      "2         2.0  1.500745e+18 2022-03-07   \n",
      "3         3.0  1.500745e+18 2022-03-07   \n",
      "4         4.0  1.500745e+18 2022-03-07   \n",
      "\n",
      "                                           full_text  retweet_count  \\\n",
      "0  RT @MeenaDasNarayan: You are a scamster, who h...            4.0   \n",
      "1  RT @EricWishart: Because of #COVID, the mask s...           74.0   \n",
      "2  RT @KentPage: Amidst deadly conflict and #COVI...           14.0   \n",
      "3  RT @phyz_Buni: The suppression of #Ivermectin ...            1.0   \n",
      "4  Total Covid Death Distribution by County  For ...            0.0   \n",
      "\n",
      "   Label (critical: 1/neutral: 0)  \n",
      "0                             1.0  \n",
      "1                             1.0  \n",
      "2                             0.0  \n",
      "3                             0.0  \n",
      "4                             0.0  \n",
      "1.0\n",
      "15690\n"
     ]
    }
   ],
   "source": [
    "print(df.head())\n",
    "print(df[l].iloc[599])\n",
    "print(df.size)"
   ]
  },
  {
   "cell_type": "code",
   "execution_count": 20,
   "metadata": {},
   "outputs": [
    {
     "name": "stdout",
     "output_type": "stream",
     "text": [
      "[{'label': 'LABEL_0', 'score': 0.39870285987854004}, {'label': 'LABEL_1', 'score': 0.60129714012146}]\n",
      "LABEL_1\n"
     ]
    }
   ],
   "source": [
    "r = pipe(\"i hate covid\")[0]\n",
    "print(r)\n",
    "result = {}\n",
    "for element in r:\n",
    "    result[element['label']] = element['score']\n",
    "label = max(result, key=result.get)\n",
    "print(label)\n",
    "#print(result)"
   ]
  },
  {
   "cell_type": "code",
   "execution_count": 21,
   "metadata": {},
   "outputs": [],
   "source": [
    "def find_label(tweet):\n",
    "    r = pipe(tweet)[0]\n",
    "    result = {}\n",
    "    for element in r:\n",
    "        result[element['label']] = element['score']\n",
    "    label = max(result, key=result.get)\n",
    "    return label"
   ]
  },
  {
   "cell_type": "code",
   "execution_count": 22,
   "metadata": {},
   "outputs": [
    {
     "name": "stderr",
     "output_type": "stream",
     "text": [
      "C:\\Users\\risto\\AppData\\Local\\Temp\\ipykernel_19800\\3470471199.py:7: SettingWithCopyWarning: \n",
      "A value is trying to be set on a copy of a slice from a DataFrame\n",
      "\n",
      "See the caveats in the documentation: https://pandas.pydata.org/pandas-docs/stable/user_guide/indexing.html#returning-a-view-versus-a-copy\n",
      "  df[l].iloc[i] = 0\n",
      "C:\\Users\\risto\\AppData\\Local\\Temp\\ipykernel_19800\\3470471199.py:10: SettingWithCopyWarning: \n",
      "A value is trying to be set on a copy of a slice from a DataFrame\n",
      "\n",
      "See the caveats in the documentation: https://pandas.pydata.org/pandas-docs/stable/user_guide/indexing.html#returning-a-view-versus-a-copy\n",
      "  df[l].iloc[i] = 1\n"
     ]
    },
    {
     "ename": "IndexError",
     "evalue": "single positional indexer is out-of-bounds",
     "output_type": "error",
     "traceback": [
      "\u001b[1;31m---------------------------------------------------------------------------\u001b[0m",
      "\u001b[1;31mIndexError\u001b[0m                                Traceback (most recent call last)",
      "\u001b[1;32mc:\\Users\\risto\\OneDrive\\Asiakirjat\\masters\\SNLP\\project\\give_labels.ipynb Cell 7'\u001b[0m in \u001b[0;36m<cell line: 2>\u001b[1;34m()\u001b[0m\n\u001b[0;32m      <a href='vscode-notebook-cell:/c%3A/Users/risto/OneDrive/Asiakirjat/masters/SNLP/project/give_labels.ipynb#ch0000004?line=0'>1</a>\u001b[0m n \u001b[39m=\u001b[39m df\u001b[39m.\u001b[39msize\n\u001b[0;32m      <a href='vscode-notebook-cell:/c%3A/Users/risto/OneDrive/Asiakirjat/masters/SNLP/project/give_labels.ipynb#ch0000004?line=1'>2</a>\u001b[0m \u001b[39mfor\u001b[39;00m i \u001b[39min\u001b[39;00m \u001b[39mrange\u001b[39m(\u001b[39m600\u001b[39m, n):\n\u001b[0;32m      <a href='vscode-notebook-cell:/c%3A/Users/risto/OneDrive/Asiakirjat/masters/SNLP/project/give_labels.ipynb#ch0000004?line=2'>3</a>\u001b[0m     \u001b[39m# get the label\u001b[39;00m\n\u001b[1;32m----> <a href='vscode-notebook-cell:/c%3A/Users/risto/OneDrive/Asiakirjat/masters/SNLP/project/give_labels.ipynb#ch0000004?line=3'>4</a>\u001b[0m     label \u001b[39m=\u001b[39m find_label(df[f]\u001b[39m.\u001b[39;49miloc[i])\n\u001b[0;32m      <a href='vscode-notebook-cell:/c%3A/Users/risto/OneDrive/Asiakirjat/masters/SNLP/project/give_labels.ipynb#ch0000004?line=4'>5</a>\u001b[0m     \u001b[39mif\u001b[39;00m label \u001b[39m==\u001b[39m \u001b[39m\"\u001b[39m\u001b[39mLABEL_0\u001b[39m\u001b[39m\"\u001b[39m:\n\u001b[0;32m      <a href='vscode-notebook-cell:/c%3A/Users/risto/OneDrive/Asiakirjat/masters/SNLP/project/give_labels.ipynb#ch0000004?line=5'>6</a>\u001b[0m         \u001b[39m# neutral\u001b[39;00m\n\u001b[0;32m      <a href='vscode-notebook-cell:/c%3A/Users/risto/OneDrive/Asiakirjat/masters/SNLP/project/give_labels.ipynb#ch0000004?line=6'>7</a>\u001b[0m         df[l]\u001b[39m.\u001b[39miloc[i] \u001b[39m=\u001b[39m \u001b[39m0\u001b[39m\n",
      "File \u001b[1;32mc:\\Users\\risto\\OneDrive\\Asiakirjat\\masters\\SNLP\\project\\venv\\lib\\site-packages\\pandas\\core\\indexing.py:967\u001b[0m, in \u001b[0;36m_LocationIndexer.__getitem__\u001b[1;34m(self, key)\u001b[0m\n\u001b[0;32m    <a href='file:///c%3A/Users/risto/OneDrive/Asiakirjat/masters/SNLP/project/venv/lib/site-packages/pandas/core/indexing.py?line=963'>964</a>\u001b[0m axis \u001b[39m=\u001b[39m \u001b[39mself\u001b[39m\u001b[39m.\u001b[39maxis \u001b[39mor\u001b[39;00m \u001b[39m0\u001b[39m\n\u001b[0;32m    <a href='file:///c%3A/Users/risto/OneDrive/Asiakirjat/masters/SNLP/project/venv/lib/site-packages/pandas/core/indexing.py?line=965'>966</a>\u001b[0m maybe_callable \u001b[39m=\u001b[39m com\u001b[39m.\u001b[39mapply_if_callable(key, \u001b[39mself\u001b[39m\u001b[39m.\u001b[39mobj)\n\u001b[1;32m--> <a href='file:///c%3A/Users/risto/OneDrive/Asiakirjat/masters/SNLP/project/venv/lib/site-packages/pandas/core/indexing.py?line=966'>967</a>\u001b[0m \u001b[39mreturn\u001b[39;00m \u001b[39mself\u001b[39;49m\u001b[39m.\u001b[39;49m_getitem_axis(maybe_callable, axis\u001b[39m=\u001b[39;49maxis)\n",
      "File \u001b[1;32mc:\\Users\\risto\\OneDrive\\Asiakirjat\\masters\\SNLP\\project\\venv\\lib\\site-packages\\pandas\\core\\indexing.py:1520\u001b[0m, in \u001b[0;36m_iLocIndexer._getitem_axis\u001b[1;34m(self, key, axis)\u001b[0m\n\u001b[0;32m   <a href='file:///c%3A/Users/risto/OneDrive/Asiakirjat/masters/SNLP/project/venv/lib/site-packages/pandas/core/indexing.py?line=1516'>1517</a>\u001b[0m     \u001b[39mraise\u001b[39;00m \u001b[39mTypeError\u001b[39;00m(\u001b[39m\"\u001b[39m\u001b[39mCannot index by location index with a non-integer key\u001b[39m\u001b[39m\"\u001b[39m)\n\u001b[0;32m   <a href='file:///c%3A/Users/risto/OneDrive/Asiakirjat/masters/SNLP/project/venv/lib/site-packages/pandas/core/indexing.py?line=1518'>1519</a>\u001b[0m \u001b[39m# validate the location\u001b[39;00m\n\u001b[1;32m-> <a href='file:///c%3A/Users/risto/OneDrive/Asiakirjat/masters/SNLP/project/venv/lib/site-packages/pandas/core/indexing.py?line=1519'>1520</a>\u001b[0m \u001b[39mself\u001b[39;49m\u001b[39m.\u001b[39;49m_validate_integer(key, axis)\n\u001b[0;32m   <a href='file:///c%3A/Users/risto/OneDrive/Asiakirjat/masters/SNLP/project/venv/lib/site-packages/pandas/core/indexing.py?line=1521'>1522</a>\u001b[0m \u001b[39mreturn\u001b[39;00m \u001b[39mself\u001b[39m\u001b[39m.\u001b[39mobj\u001b[39m.\u001b[39m_ixs(key, axis\u001b[39m=\u001b[39maxis)\n",
      "File \u001b[1;32mc:\\Users\\risto\\OneDrive\\Asiakirjat\\masters\\SNLP\\project\\venv\\lib\\site-packages\\pandas\\core\\indexing.py:1452\u001b[0m, in \u001b[0;36m_iLocIndexer._validate_integer\u001b[1;34m(self, key, axis)\u001b[0m\n\u001b[0;32m   <a href='file:///c%3A/Users/risto/OneDrive/Asiakirjat/masters/SNLP/project/venv/lib/site-packages/pandas/core/indexing.py?line=1449'>1450</a>\u001b[0m len_axis \u001b[39m=\u001b[39m \u001b[39mlen\u001b[39m(\u001b[39mself\u001b[39m\u001b[39m.\u001b[39mobj\u001b[39m.\u001b[39m_get_axis(axis))\n\u001b[0;32m   <a href='file:///c%3A/Users/risto/OneDrive/Asiakirjat/masters/SNLP/project/venv/lib/site-packages/pandas/core/indexing.py?line=1450'>1451</a>\u001b[0m \u001b[39mif\u001b[39;00m key \u001b[39m>\u001b[39m\u001b[39m=\u001b[39m len_axis \u001b[39mor\u001b[39;00m key \u001b[39m<\u001b[39m \u001b[39m-\u001b[39mlen_axis:\n\u001b[1;32m-> <a href='file:///c%3A/Users/risto/OneDrive/Asiakirjat/masters/SNLP/project/venv/lib/site-packages/pandas/core/indexing.py?line=1451'>1452</a>\u001b[0m     \u001b[39mraise\u001b[39;00m \u001b[39mIndexError\u001b[39;00m(\u001b[39m\"\u001b[39m\u001b[39msingle positional indexer is out-of-bounds\u001b[39m\u001b[39m\"\u001b[39m)\n",
      "\u001b[1;31mIndexError\u001b[0m: single positional indexer is out-of-bounds"
     ]
    }
   ],
   "source": [
    "n = df.size\n",
    "for i in range(600, n):\n",
    "    # get the label\n",
    "    label = find_label(df[f].iloc[i])\n",
    "    if label == \"LABEL_0\":\n",
    "        # neutral\n",
    "        df[l].iloc[i] = 0\n",
    "    elif label == \"LABEL_1\":\n",
    "        # critical\n",
    "        df[l].iloc[i] = 1\n",
    "    else:\n",
    "        # error\n",
    "        raise ValueError(f\"the label is random at index {i}\")\n"
   ]
  },
  {
   "cell_type": "code",
   "execution_count": 31,
   "metadata": {},
   "outputs": [],
   "source": [
    "df.to_excel('tweets_labeled_all.xlsx')"
   ]
  },
  {
   "cell_type": "code",
   "execution_count": 33,
   "metadata": {},
   "outputs": [
    {
     "ename": "IndexError",
     "evalue": "single positional indexer is out-of-bounds",
     "output_type": "error",
     "traceback": [
      "\u001b[1;31m---------------------------------------------------------------------------\u001b[0m",
      "\u001b[1;31mIndexError\u001b[0m                                Traceback (most recent call last)",
      "\u001b[1;32mc:\\Users\\risto\\OneDrive\\Asiakirjat\\masters\\SNLP\\project\\give_labels.ipynb Cell 9'\u001b[0m in \u001b[0;36m<cell line: 1>\u001b[1;34m()\u001b[0m\n\u001b[1;32m----> <a href='vscode-notebook-cell:/c%3A/Users/risto/OneDrive/Asiakirjat/masters/SNLP/project/give_labels.ipynb#ch0000008?line=0'>1</a>\u001b[0m \u001b[39mprint\u001b[39m(df[l]\u001b[39m.\u001b[39;49miloc[\u001b[39m2615\u001b[39;49m])\n",
      "File \u001b[1;32mc:\\Users\\risto\\OneDrive\\Asiakirjat\\masters\\SNLP\\project\\venv\\lib\\site-packages\\pandas\\core\\indexing.py:967\u001b[0m, in \u001b[0;36m_LocationIndexer.__getitem__\u001b[1;34m(self, key)\u001b[0m\n\u001b[0;32m    <a href='file:///c%3A/Users/risto/OneDrive/Asiakirjat/masters/SNLP/project/venv/lib/site-packages/pandas/core/indexing.py?line=963'>964</a>\u001b[0m axis \u001b[39m=\u001b[39m \u001b[39mself\u001b[39m\u001b[39m.\u001b[39maxis \u001b[39mor\u001b[39;00m \u001b[39m0\u001b[39m\n\u001b[0;32m    <a href='file:///c%3A/Users/risto/OneDrive/Asiakirjat/masters/SNLP/project/venv/lib/site-packages/pandas/core/indexing.py?line=965'>966</a>\u001b[0m maybe_callable \u001b[39m=\u001b[39m com\u001b[39m.\u001b[39mapply_if_callable(key, \u001b[39mself\u001b[39m\u001b[39m.\u001b[39mobj)\n\u001b[1;32m--> <a href='file:///c%3A/Users/risto/OneDrive/Asiakirjat/masters/SNLP/project/venv/lib/site-packages/pandas/core/indexing.py?line=966'>967</a>\u001b[0m \u001b[39mreturn\u001b[39;00m \u001b[39mself\u001b[39;49m\u001b[39m.\u001b[39;49m_getitem_axis(maybe_callable, axis\u001b[39m=\u001b[39;49maxis)\n",
      "File \u001b[1;32mc:\\Users\\risto\\OneDrive\\Asiakirjat\\masters\\SNLP\\project\\venv\\lib\\site-packages\\pandas\\core\\indexing.py:1520\u001b[0m, in \u001b[0;36m_iLocIndexer._getitem_axis\u001b[1;34m(self, key, axis)\u001b[0m\n\u001b[0;32m   <a href='file:///c%3A/Users/risto/OneDrive/Asiakirjat/masters/SNLP/project/venv/lib/site-packages/pandas/core/indexing.py?line=1516'>1517</a>\u001b[0m     \u001b[39mraise\u001b[39;00m \u001b[39mTypeError\u001b[39;00m(\u001b[39m\"\u001b[39m\u001b[39mCannot index by location index with a non-integer key\u001b[39m\u001b[39m\"\u001b[39m)\n\u001b[0;32m   <a href='file:///c%3A/Users/risto/OneDrive/Asiakirjat/masters/SNLP/project/venv/lib/site-packages/pandas/core/indexing.py?line=1518'>1519</a>\u001b[0m \u001b[39m# validate the location\u001b[39;00m\n\u001b[1;32m-> <a href='file:///c%3A/Users/risto/OneDrive/Asiakirjat/masters/SNLP/project/venv/lib/site-packages/pandas/core/indexing.py?line=1519'>1520</a>\u001b[0m \u001b[39mself\u001b[39;49m\u001b[39m.\u001b[39;49m_validate_integer(key, axis)\n\u001b[0;32m   <a href='file:///c%3A/Users/risto/OneDrive/Asiakirjat/masters/SNLP/project/venv/lib/site-packages/pandas/core/indexing.py?line=1521'>1522</a>\u001b[0m \u001b[39mreturn\u001b[39;00m \u001b[39mself\u001b[39m\u001b[39m.\u001b[39mobj\u001b[39m.\u001b[39m_ixs(key, axis\u001b[39m=\u001b[39maxis)\n",
      "File \u001b[1;32mc:\\Users\\risto\\OneDrive\\Asiakirjat\\masters\\SNLP\\project\\venv\\lib\\site-packages\\pandas\\core\\indexing.py:1452\u001b[0m, in \u001b[0;36m_iLocIndexer._validate_integer\u001b[1;34m(self, key, axis)\u001b[0m\n\u001b[0;32m   <a href='file:///c%3A/Users/risto/OneDrive/Asiakirjat/masters/SNLP/project/venv/lib/site-packages/pandas/core/indexing.py?line=1449'>1450</a>\u001b[0m len_axis \u001b[39m=\u001b[39m \u001b[39mlen\u001b[39m(\u001b[39mself\u001b[39m\u001b[39m.\u001b[39mobj\u001b[39m.\u001b[39m_get_axis(axis))\n\u001b[0;32m   <a href='file:///c%3A/Users/risto/OneDrive/Asiakirjat/masters/SNLP/project/venv/lib/site-packages/pandas/core/indexing.py?line=1450'>1451</a>\u001b[0m \u001b[39mif\u001b[39;00m key \u001b[39m>\u001b[39m\u001b[39m=\u001b[39m len_axis \u001b[39mor\u001b[39;00m key \u001b[39m<\u001b[39m \u001b[39m-\u001b[39mlen_axis:\n\u001b[1;32m-> <a href='file:///c%3A/Users/risto/OneDrive/Asiakirjat/masters/SNLP/project/venv/lib/site-packages/pandas/core/indexing.py?line=1451'>1452</a>\u001b[0m     \u001b[39mraise\u001b[39;00m \u001b[39mIndexError\u001b[39;00m(\u001b[39m\"\u001b[39m\u001b[39msingle positional indexer is out-of-bounds\u001b[39m\u001b[39m\"\u001b[39m)\n",
      "\u001b[1;31mIndexError\u001b[0m: single positional indexer is out-of-bounds"
     ]
    }
   ],
   "source": [
    "print(df[l].iloc[2615])"
   ]
  }
 ],
 "metadata": {
  "interpreter": {
   "hash": "1699b388bd678768f544dd6534e58979417dc4074b6b5ce767e74c5ad0a1cf40"
  },
  "kernelspec": {
   "display_name": "Python 3.8.5 ('venv': venv)",
   "language": "python",
   "name": "python3"
  },
  "language_info": {
   "codemirror_mode": {
    "name": "ipython",
    "version": 3
   },
   "file_extension": ".py",
   "mimetype": "text/x-python",
   "name": "python",
   "nbconvert_exporter": "python",
   "pygments_lexer": "ipython3",
   "version": "3.8.5"
  },
  "orig_nbformat": 4
 },
 "nbformat": 4,
 "nbformat_minor": 2
}
