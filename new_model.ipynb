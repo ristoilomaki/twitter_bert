{
 "cells": [
  {
   "cell_type": "markdown",
   "metadata": {},
   "source": [
    "new model chosen from here: https://huggingface.co/models?sort=downloads&search=bert"
   ]
  },
  {
   "cell_type": "code",
   "execution_count": 1,
   "metadata": {},
   "outputs": [],
   "source": [
    "import pandas as pd\n",
    "import transformers"
   ]
  },
  {
   "cell_type": "code",
   "execution_count": 2,
   "metadata": {},
   "outputs": [],
   "source": [
    "d = pd.read_excel('tweets_labeled.xlsx')\n",
    "tweets = d['full_text'][:600]\n",
    "labels = d['Label (critical: 1/neutral: 0)'][:600]\n",
    "data = pd.DataFrame({'tweets': tweets, 'labels': labels})"
   ]
  },
  {
   "cell_type": "markdown",
   "metadata": {},
   "source": [
    "this seems to be an improved version of the ct-bert that we took a look at in literature review:\n",
    "https://huggingface.co/digitalepidemiologylab/covid-twitter-bert-v2-mnli\n",
    "\n",
    "finetuning is not possible tho."
   ]
  },
  {
   "cell_type": "code",
   "execution_count": 3,
   "metadata": {},
   "outputs": [
    {
     "name": "stderr",
     "output_type": "stream",
     "text": [
      "Downloading: 100%|██████████| 833/833 [00:00<00:00, 417kB/s]\n",
      "Downloading: 100%|██████████| 1.34G/1.34G [01:50<00:00, 12.2MB/s]   \n",
      "Downloading: 100%|██████████| 364/364 [00:00<00:00, 60.7kB/s]\n",
      "Downloading: 100%|██████████| 232k/232k [00:00<00:00, 636kB/s] \n",
      "Downloading: 100%|██████████| 112/112 [00:00<00:00, 38.0kB/s]\n"
     ]
    }
   ],
   "source": [
    "from transformers import pipeline\n",
    "classifier = pipeline(\"zero-shot-classification\", model=\"digitalepidemiologylab/covid-twitter-bert-v2-mnli\")"
   ]
  },
  {
   "cell_type": "code",
   "execution_count": 5,
   "metadata": {},
   "outputs": [
    {
     "data": {
      "text/plain": [
       "{'sequence': 'To stop the pandemic it is important that everyone turns up for their shots.',\n",
       " 'labels': ['health', 'vaccine', 'sport', 'guns'],\n",
       " 'scores': [0.9540156126022339,\n",
       "  0.7107963562011719,\n",
       "  0.2755419909954071,\n",
       "  0.0753604918718338]}"
      ]
     },
     "execution_count": 5,
     "metadata": {},
     "output_type": "execute_result"
    }
   ],
   "source": [
    "# example from the website\n",
    "sequence_to_classify = 'To stop the pandemic it is important that everyone turns up for their shots.'\n",
    "candidate_labels = ['health', 'sport', 'vaccine','guns']\n",
    "hypothesis_template = 'This example is {}.'\n",
    "classifier(sequence_to_classify, candidate_labels, hypothesis_template=hypothesis_template, multi_label=True)"
   ]
  },
  {
   "cell_type": "code",
   "execution_count": 24,
   "metadata": {},
   "outputs": [
    {
     "data": {
      "text/plain": [
       "{'sequence': 'you have to take a shot',\n",
       " 'labels': ['critical', 'neutral'],\n",
       " 'scores': [0.6101869940757751, 0.0019355666590854526]}"
      ]
     },
     "execution_count": 24,
     "metadata": {},
     "output_type": "execute_result"
    }
   ],
   "source": [
    "sequence_to_classify = \"you have to take a shot\"\n",
    "# candidate_labels = ['neutral', 'critical']\n",
    "candidate_labels = ['critical', 'neutral']\n",
    "hypothesis_template = 'This example is {}.'\n",
    "classifier(sequence_to_classify, candidate_labels, hypothesis_template=hypothesis_template, multi_label=True)"
   ]
  },
  {
   "cell_type": "code",
   "execution_count": 26,
   "metadata": {},
   "outputs": [],
   "source": [
    "for i, t in enumerate(tweets[:50]):\n",
    "    c = classifier(t, candidate_labels, hypothesis_template=hypothesis_template, multi_label=True)\n",
    "    label = c['labels'][0]\n",
    "    if label == 'neutral':\n",
    "        print(f\"{t}\\t\\t Label: {label}\")"
   ]
  }
 ],
 "metadata": {
  "interpreter": {
   "hash": "1699b388bd678768f544dd6534e58979417dc4074b6b5ce767e74c5ad0a1cf40"
  },
  "kernelspec": {
   "display_name": "Python 3.8.5 ('venv': venv)",
   "language": "python",
   "name": "python3"
  },
  "language_info": {
   "codemirror_mode": {
    "name": "ipython",
    "version": 3
   },
   "file_extension": ".py",
   "mimetype": "text/x-python",
   "name": "python",
   "nbconvert_exporter": "python",
   "pygments_lexer": "ipython3",
   "version": "3.8.5"
  },
  "orig_nbformat": 4
 },
 "nbformat": 4,
 "nbformat_minor": 2
}
